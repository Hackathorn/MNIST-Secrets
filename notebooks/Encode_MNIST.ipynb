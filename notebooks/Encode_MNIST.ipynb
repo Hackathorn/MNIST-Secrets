{
  "nbformat": 4,
  "nbformat_minor": 0,
  "metadata": {
    "colab": {
      "provenance": []
    },
    "kernelspec": {
      "name": "python3",
      "display_name": "Python 3"
    },
    "language_info": {
      "name": "python"
    }
  },
  "cells": [
    {
      "cell_type": "markdown",
      "source": [
        "# Encode MNIST "
      ],
      "metadata": {
        "id": "DPFmwaXHwivs"
      }
    },
    {
      "cell_type": "markdown",
      "source": [
        "## Clone repo"
      ],
      "metadata": {
        "id": "vn-EN8rPx8Ly"
      }
    },
    {
      "cell_type": "code",
      "source": [
        "    !git clone https://github.com/Hackathorn/CVA-SBERT"
      ],
      "metadata": {
        "id": "GK3Byg2iyA2Q"
      },
      "execution_count": null,
      "outputs": []
    },
    {
      "cell_type": "markdown",
      "source": [
        "## Prep data"
      ],
      "metadata": {
        "id": "RJ_0HAKHwz7L"
      }
    },
    {
      "cell_type": "markdown",
      "source": [
        "Taken from Colab sample_data for MNIST-digits  \n",
        "Contains 20K training and 10K testing samples  \n",
        "For this self-supervised encoding, samples will be combined  \n",
        "Each samples contains a label (0-9) plus 28x28 pixel integers (0-255)  "
      ],
      "metadata": {
        "id": "YBlAtXBNw5Hb"
      }
    },
    {
      "cell_type": "code",
      "execution_count": null,
      "metadata": {
        "id": "y-Hlg8JtwX7R"
      },
      "outputs": [],
      "source": []
    }
  ]
}